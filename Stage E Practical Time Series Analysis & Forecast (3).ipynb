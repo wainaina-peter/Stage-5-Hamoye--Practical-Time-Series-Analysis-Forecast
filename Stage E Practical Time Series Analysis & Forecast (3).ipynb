{
 "cells": [
  {
   "cell_type": "markdown",
   "id": "6ec898bd",
   "metadata": {},
   "source": [
    "# Stage E Hamoye Internship- PRACTICAL TIME SERIES ANALYSIS & FORECAST"
   ]
  },
  {
   "cell_type": "markdown",
   "id": "df48c564",
   "metadata": {},
   "source": [
    "### Name: Peter Wainaina\n",
    "### Student ID: 16cc46827641f000  "
   ]
  },
  {
   "cell_type": "markdown",
   "id": "bdf08bb8",
   "metadata": {},
   "source": [
    "#### Question 1\n",
    "Which of the following best describes stationarity?"
   ]
  },
  {
   "cell_type": "markdown",
   "id": "06beb86b",
   "metadata": {},
   "source": [
    "**Answer:** The standard deviation and the mean does not change over time."
   ]
  },
  {
   "cell_type": "markdown",
   "id": "8155c25f",
   "metadata": {},
   "source": [
    "#### Question 2\n",
    "In The augmented Dickey-Fuller unit root test, a P value of < 0.05 suggests that ___"
   ]
  },
  {
   "cell_type": "markdown",
   "id": "55e203ec",
   "metadata": {},
   "source": [
    "**Answer:** The time series is stationary"
   ]
  },
  {
   "cell_type": "markdown",
   "id": "b1c08923",
   "metadata": {},
   "source": [
    "#### Question 3\n",
    "The Log differencing data transformation technique is used to remove __ & __ from a time series Data"
   ]
  },
  {
   "cell_type": "markdown",
   "id": "80b3ea92",
   "metadata": {},
   "source": [
    "**Answer:** Trend & Seasonality"
   ]
  },
  {
   "cell_type": "markdown",
   "id": "31cc7d77",
   "metadata": {},
   "source": [
    "#### Question 4\n",
    "Which time series forecasting model involves the linear combination of past time series values of the target variable to predict future values?"
   ]
  },
  {
   "cell_type": "markdown",
   "id": "0e79b87a",
   "metadata": {},
   "source": [
    "**Answer:** \n",
    "Moving Average Model"
   ]
  },
  {
   "cell_type": "markdown",
   "id": "c2720cd7",
   "metadata": {},
   "source": [
    "#### Question 5\n",
    "Which of these is a method employed in performing a train test split on a time series dataset?"
   ]
  },
  {
   "cell_type": "markdown",
   "id": "f5ac9dd4",
   "metadata": {},
   "source": [
    "**Answer:** Sliding Window"
   ]
  },
  {
   "cell_type": "markdown",
   "id": "6840f422",
   "metadata": {},
   "source": [
    "#### Question 6\n",
    "In the Arima time series forecasting model, the parameters ‘pdq’ represents____?"
   ]
  },
  {
   "cell_type": "markdown",
   "id": "9578ebe6",
   "metadata": {},
   "source": [
    "**Answer:** Number of past time steps, Number of non-seasonal Differences, Past Errors/REsiduals"
   ]
  },
  {
   "cell_type": "markdown",
   "id": "98d58c4c",
   "metadata": {},
   "source": [
    "#### Question 7\n",
    "Which of these imputation methods is not suitable for a time series data that is to be used for modeling?"
   ]
  },
  {
   "cell_type": "markdown",
   "id": "88e05343",
   "metadata": {},
   "source": [
    "**Answer:** Filling with a very large integer value"
   ]
  },
  {
   "cell_type": "markdown",
   "id": "5dcfc8a3",
   "metadata": {},
   "source": [
    "#### Question 8\n",
    "Which of these is not a behaviour exhibited by a time series data"
   ]
  },
  {
   "cell_type": "markdown",
   "id": "600017bf",
   "metadata": {},
   "source": [
    "**Answer:** Linearity"
   ]
  },
  {
   "cell_type": "markdown",
   "id": "930ef5ee",
   "metadata": {},
   "source": [
    "#### Question 9\n",
    "The time series model of order ___ states that the current time series value is linearly dependent on the past p values with some white noise?"
   ]
  },
  {
   "cell_type": "markdown",
   "id": "fb762585",
   "metadata": {},
   "source": [
    "**Answer:** AR, order p"
   ]
  },
  {
   "cell_type": "markdown",
   "id": "785f34b2",
   "metadata": {},
   "source": [
    "#### Question 10\n",
    "The ___ model of order ___ says that the time series is linearly dependent on current and past shock values or noise?"
   ]
  },
  {
   "cell_type": "markdown",
   "id": "4bbac926",
   "metadata": {},
   "source": [
    "**Answer:** \n",
    "\n",
    "ARIMA model, order pdq.\n",
    "\n",
    "AR model, order p\n",
    "\n",
    "MA model, order q"
   ]
  },
  {
   "cell_type": "code",
   "execution_count": 1,
   "id": "43463bb9",
   "metadata": {},
   "outputs": [],
   "source": [
    "import pandas as pd\n",
    "import numpy as np\n",
    "import missingno as msno\n",
    "from datetime import datetime\n",
    "import seaborn as sns\n",
    "import matplotlib.pyplot as plt   \n",
    "\n",
    "from statsmodels.tsa.stattools import adfuller\n",
    "from sklearn import metrics\n",
    "from prophet import Prophet\n",
    "%matplotlib inline"
   ]
  },
  {
   "cell_type": "code",
   "execution_count": 2,
   "id": "85ef156f",
   "metadata": {},
   "outputs": [
    {
     "data": {
      "text/html": [
       "<div>\n",
       "<style scoped>\n",
       "    .dataframe tbody tr th:only-of-type {\n",
       "        vertical-align: middle;\n",
       "    }\n",
       "\n",
       "    .dataframe tbody tr th {\n",
       "        vertical-align: top;\n",
       "    }\n",
       "\n",
       "    .dataframe thead th {\n",
       "        text-align: right;\n",
       "    }\n",
       "</style>\n",
       "<table border=\"1\" class=\"dataframe\">\n",
       "  <thead>\n",
       "    <tr style=\"text-align: right;\">\n",
       "      <th></th>\n",
       "      <th>FullDate</th>\n",
       "      <th>Tmax</th>\n",
       "      <th>SysLoad</th>\n",
       "      <th>GasPrice</th>\n",
       "      <th>ElecPrice</th>\n",
       "    </tr>\n",
       "  </thead>\n",
       "  <tbody>\n",
       "    <tr>\n",
       "      <th>0</th>\n",
       "      <td>2010-09-01 00:00:00</td>\n",
       "      <td>15.8</td>\n",
       "      <td>1688.215</td>\n",
       "      <td>3.69</td>\n",
       "      <td>23.710</td>\n",
       "    </tr>\n",
       "    <tr>\n",
       "      <th>1</th>\n",
       "      <td>2010-09-01 01:00:00</td>\n",
       "      <td>15.8</td>\n",
       "      <td>1669.195</td>\n",
       "      <td>3.69</td>\n",
       "      <td>22.635</td>\n",
       "    </tr>\n",
       "    <tr>\n",
       "      <th>2</th>\n",
       "      <td>2010-09-01 02:00:00</td>\n",
       "      <td>15.8</td>\n",
       "      <td>1491.980</td>\n",
       "      <td>3.69</td>\n",
       "      <td>22.565</td>\n",
       "    </tr>\n",
       "    <tr>\n",
       "      <th>3</th>\n",
       "      <td>2010-09-01 03:00:00</td>\n",
       "      <td>15.8</td>\n",
       "      <td>1330.760</td>\n",
       "      <td>3.69</td>\n",
       "      <td>18.910</td>\n",
       "    </tr>\n",
       "    <tr>\n",
       "      <th>4</th>\n",
       "      <td>2010-09-01 04:00:00</td>\n",
       "      <td>15.8</td>\n",
       "      <td>1247.940</td>\n",
       "      <td>3.69</td>\n",
       "      <td>18.030</td>\n",
       "    </tr>\n",
       "  </tbody>\n",
       "</table>\n",
       "</div>"
      ],
      "text/plain": [
       "              FullDate  Tmax   SysLoad  GasPrice  ElecPrice\n",
       "0  2010-09-01 00:00:00  15.8  1688.215      3.69     23.710\n",
       "1  2010-09-01 01:00:00  15.8  1669.195      3.69     22.635\n",
       "2  2010-09-01 02:00:00  15.8  1491.980      3.69     22.565\n",
       "3  2010-09-01 03:00:00  15.8  1330.760      3.69     18.910\n",
       "4  2010-09-01 04:00:00  15.8  1247.940      3.69     18.030"
      ]
     },
     "execution_count": 2,
     "metadata": {},
     "output_type": "execute_result"
    }
   ],
   "source": [
    "df = pd.read_csv(\"Time_series_analysis_and_forecast_DATASET.csv\")\n",
    "df.head()"
   ]
  },
  {
   "cell_type": "code",
   "execution_count": 3,
   "id": "aafeb417",
   "metadata": {},
   "outputs": [
    {
     "data": {
      "text/plain": [
       "(92016, 5)"
      ]
     },
     "execution_count": 3,
     "metadata": {},
     "output_type": "execute_result"
    }
   ],
   "source": [
    "df.shape"
   ]
  },
  {
   "cell_type": "code",
   "execution_count": 4,
   "id": "f6639471",
   "metadata": {},
   "outputs": [
    {
     "data": {
      "text/plain": [
       "FullDate      object\n",
       "Tmax         float64\n",
       "SysLoad      float64\n",
       "GasPrice     float64\n",
       "ElecPrice    float64\n",
       "dtype: object"
      ]
     },
     "execution_count": 4,
     "metadata": {},
     "output_type": "execute_result"
    }
   ],
   "source": [
    "df.dtypes"
   ]
  },
  {
   "cell_type": "code",
   "execution_count": 5,
   "id": "b4733058",
   "metadata": {},
   "outputs": [
    {
     "data": {
      "text/plain": [
       "FullDate     False\n",
       "Tmax         False\n",
       "SysLoad      False\n",
       "GasPrice     False\n",
       "ElecPrice    False\n",
       "dtype: bool"
      ]
     },
     "execution_count": 5,
     "metadata": {},
     "output_type": "execute_result"
    }
   ],
   "source": [
    "df.isna().any()"
   ]
  },
  {
   "cell_type": "code",
   "execution_count": 6,
   "id": "830a5832",
   "metadata": {},
   "outputs": [
    {
     "data": {
      "text/html": [
       "<div>\n",
       "<style scoped>\n",
       "    .dataframe tbody tr th:only-of-type {\n",
       "        vertical-align: middle;\n",
       "    }\n",
       "\n",
       "    .dataframe tbody tr th {\n",
       "        vertical-align: top;\n",
       "    }\n",
       "\n",
       "    .dataframe thead th {\n",
       "        text-align: right;\n",
       "    }\n",
       "</style>\n",
       "<table border=\"1\" class=\"dataframe\">\n",
       "  <thead>\n",
       "    <tr style=\"text-align: right;\">\n",
       "      <th></th>\n",
       "      <th>Tmax</th>\n",
       "      <th>SysLoad</th>\n",
       "      <th>GasPrice</th>\n",
       "      <th>ElecPrice</th>\n",
       "    </tr>\n",
       "  </thead>\n",
       "  <tbody>\n",
       "    <tr>\n",
       "      <th>count</th>\n",
       "      <td>92016.000000</td>\n",
       "      <td>92016.000000</td>\n",
       "      <td>92016.000000</td>\n",
       "      <td>92016.000000</td>\n",
       "    </tr>\n",
       "    <tr>\n",
       "      <th>mean</th>\n",
       "      <td>231.696688</td>\n",
       "      <td>797.623357</td>\n",
       "      <td>6.016163</td>\n",
       "      <td>65.798356</td>\n",
       "    </tr>\n",
       "    <tr>\n",
       "      <th>std</th>\n",
       "      <td>4562.128748</td>\n",
       "      <td>613.520156</td>\n",
       "      <td>2.608116</td>\n",
       "      <td>213.144084</td>\n",
       "    </tr>\n",
       "    <tr>\n",
       "      <th>min</th>\n",
       "      <td>9.900000</td>\n",
       "      <td>-1596.810100</td>\n",
       "      <td>0.000000</td>\n",
       "      <td>-924.820000</td>\n",
       "    </tr>\n",
       "    <tr>\n",
       "      <th>25%</th>\n",
       "      <td>17.300000</td>\n",
       "      <td>417.119800</td>\n",
       "      <td>3.936900</td>\n",
       "      <td>31.543750</td>\n",
       "    </tr>\n",
       "    <tr>\n",
       "      <th>50%</th>\n",
       "      <td>21.900000</td>\n",
       "      <td>856.467925</td>\n",
       "      <td>5.165600</td>\n",
       "      <td>48.715000</td>\n",
       "    </tr>\n",
       "    <tr>\n",
       "      <th>75%</th>\n",
       "      <td>27.600000</td>\n",
       "      <td>1221.293675</td>\n",
       "      <td>8.023300</td>\n",
       "      <td>76.495000</td>\n",
       "    </tr>\n",
       "    <tr>\n",
       "      <th>max</th>\n",
       "      <td>99999.900000</td>\n",
       "      <td>3264.166300</td>\n",
       "      <td>29.990000</td>\n",
       "      <td>14700.000000</td>\n",
       "    </tr>\n",
       "  </tbody>\n",
       "</table>\n",
       "</div>"
      ],
      "text/plain": [
       "               Tmax       SysLoad      GasPrice     ElecPrice\n",
       "count  92016.000000  92016.000000  92016.000000  92016.000000\n",
       "mean     231.696688    797.623357      6.016163     65.798356\n",
       "std     4562.128748    613.520156      2.608116    213.144084\n",
       "min        9.900000  -1596.810100      0.000000   -924.820000\n",
       "25%       17.300000    417.119800      3.936900     31.543750\n",
       "50%       21.900000    856.467925      5.165600     48.715000\n",
       "75%       27.600000   1221.293675      8.023300     76.495000\n",
       "max    99999.900000   3264.166300     29.990000  14700.000000"
      ]
     },
     "execution_count": 6,
     "metadata": {},
     "output_type": "execute_result"
    }
   ],
   "source": [
    "df.describe()"
   ]
  },
  {
   "cell_type": "markdown",
   "id": "74692149",
   "metadata": {},
   "source": [
    "Conveting the **\"FullDate\"** column to date-time,\n",
    "Renaming the **\"FullDate\"** column to **\"ds\"**,\n",
    "Renaming the **\"ElecPrice\"** column to **\"y\"**"
   ]
  },
  {
   "cell_type": "code",
   "execution_count": 7,
   "id": "75df99c7",
   "metadata": {},
   "outputs": [
    {
     "data": {
      "text/html": [
       "<div>\n",
       "<style scoped>\n",
       "    .dataframe tbody tr th:only-of-type {\n",
       "        vertical-align: middle;\n",
       "    }\n",
       "\n",
       "    .dataframe tbody tr th {\n",
       "        vertical-align: top;\n",
       "    }\n",
       "\n",
       "    .dataframe thead th {\n",
       "        text-align: right;\n",
       "    }\n",
       "</style>\n",
       "<table border=\"1\" class=\"dataframe\">\n",
       "  <thead>\n",
       "    <tr style=\"text-align: right;\">\n",
       "      <th></th>\n",
       "      <th>Tmax</th>\n",
       "      <th>SysLoad</th>\n",
       "      <th>GasPrice</th>\n",
       "      <th>y</th>\n",
       "    </tr>\n",
       "    <tr>\n",
       "      <th>ds</th>\n",
       "      <th></th>\n",
       "      <th></th>\n",
       "      <th></th>\n",
       "      <th></th>\n",
       "    </tr>\n",
       "  </thead>\n",
       "  <tbody>\n",
       "    <tr>\n",
       "      <th>2010-09-01 00:00:00</th>\n",
       "      <td>15.8</td>\n",
       "      <td>1688.215</td>\n",
       "      <td>3.69</td>\n",
       "      <td>23.710</td>\n",
       "    </tr>\n",
       "    <tr>\n",
       "      <th>2010-09-01 01:00:00</th>\n",
       "      <td>15.8</td>\n",
       "      <td>1669.195</td>\n",
       "      <td>3.69</td>\n",
       "      <td>22.635</td>\n",
       "    </tr>\n",
       "    <tr>\n",
       "      <th>2010-09-01 02:00:00</th>\n",
       "      <td>15.8</td>\n",
       "      <td>1491.980</td>\n",
       "      <td>3.69</td>\n",
       "      <td>22.565</td>\n",
       "    </tr>\n",
       "    <tr>\n",
       "      <th>2010-09-01 03:00:00</th>\n",
       "      <td>15.8</td>\n",
       "      <td>1330.760</td>\n",
       "      <td>3.69</td>\n",
       "      <td>18.910</td>\n",
       "    </tr>\n",
       "    <tr>\n",
       "      <th>2010-09-01 04:00:00</th>\n",
       "      <td>15.8</td>\n",
       "      <td>1247.940</td>\n",
       "      <td>3.69</td>\n",
       "      <td>18.030</td>\n",
       "    </tr>\n",
       "    <tr>\n",
       "      <th>2010-09-01 05:00:00</th>\n",
       "      <td>15.8</td>\n",
       "      <td>1232.000</td>\n",
       "      <td>3.69</td>\n",
       "      <td>19.160</td>\n",
       "    </tr>\n",
       "    <tr>\n",
       "      <th>2010-09-01 06:00:00</th>\n",
       "      <td>15.8</td>\n",
       "      <td>1282.930</td>\n",
       "      <td>3.69</td>\n",
       "      <td>23.540</td>\n",
       "    </tr>\n",
       "    <tr>\n",
       "      <th>2010-09-01 07:00:00</th>\n",
       "      <td>15.8</td>\n",
       "      <td>1430.935</td>\n",
       "      <td>3.69</td>\n",
       "      <td>26.235</td>\n",
       "    </tr>\n",
       "    <tr>\n",
       "      <th>2010-09-01 08:00:00</th>\n",
       "      <td>15.8</td>\n",
       "      <td>1670.275</td>\n",
       "      <td>3.69</td>\n",
       "      <td>28.690</td>\n",
       "    </tr>\n",
       "    <tr>\n",
       "      <th>2010-09-01 09:00:00</th>\n",
       "      <td>15.8</td>\n",
       "      <td>1815.155</td>\n",
       "      <td>3.69</td>\n",
       "      <td>29.630</td>\n",
       "    </tr>\n",
       "  </tbody>\n",
       "</table>\n",
       "</div>"
      ],
      "text/plain": [
       "                     Tmax   SysLoad  GasPrice       y\n",
       "ds                                                   \n",
       "2010-09-01 00:00:00  15.8  1688.215      3.69  23.710\n",
       "2010-09-01 01:00:00  15.8  1669.195      3.69  22.635\n",
       "2010-09-01 02:00:00  15.8  1491.980      3.69  22.565\n",
       "2010-09-01 03:00:00  15.8  1330.760      3.69  18.910\n",
       "2010-09-01 04:00:00  15.8  1247.940      3.69  18.030\n",
       "2010-09-01 05:00:00  15.8  1232.000      3.69  19.160\n",
       "2010-09-01 06:00:00  15.8  1282.930      3.69  23.540\n",
       "2010-09-01 07:00:00  15.8  1430.935      3.69  26.235\n",
       "2010-09-01 08:00:00  15.8  1670.275      3.69  28.690\n",
       "2010-09-01 09:00:00  15.8  1815.155      3.69  29.630"
      ]
     },
     "execution_count": 7,
     "metadata": {},
     "output_type": "execute_result"
    }
   ],
   "source": [
    "df['FullDate'] = pd.to_datetime(df.FullDate)\n",
    "df = df.rename(columns={\"FullDate\" : \"ds\" , \"ElecPrice\" : \"y\" }) \n",
    "df.set_index('ds', inplace=True)\n",
    "df.head(10)"
   ]
  },
  {
   "cell_type": "code",
   "execution_count": 8,
   "id": "571f9242",
   "metadata": {},
   "outputs": [],
   "source": [
    "#copy of the dataframe\n",
    "df_copy = df.copy()"
   ]
  },
  {
   "cell_type": "code",
   "execution_count": 9,
   "id": "976ee820",
   "metadata": {},
   "outputs": [
    {
     "name": "stdout",
     "output_type": "stream",
     "text": [
      "(3834, 4)\n"
     ]
    },
    {
     "data": {
      "text/html": [
       "<div>\n",
       "<style scoped>\n",
       "    .dataframe tbody tr th:only-of-type {\n",
       "        vertical-align: middle;\n",
       "    }\n",
       "\n",
       "    .dataframe tbody tr th {\n",
       "        vertical-align: top;\n",
       "    }\n",
       "\n",
       "    .dataframe thead th {\n",
       "        text-align: right;\n",
       "    }\n",
       "</style>\n",
       "<table border=\"1\" class=\"dataframe\">\n",
       "  <thead>\n",
       "    <tr style=\"text-align: right;\">\n",
       "      <th></th>\n",
       "      <th>Tmax</th>\n",
       "      <th>SysLoad</th>\n",
       "      <th>GasPrice</th>\n",
       "      <th>y</th>\n",
       "    </tr>\n",
       "    <tr>\n",
       "      <th>ds</th>\n",
       "      <th></th>\n",
       "      <th></th>\n",
       "      <th></th>\n",
       "      <th></th>\n",
       "    </tr>\n",
       "  </thead>\n",
       "  <tbody>\n",
       "    <tr>\n",
       "      <th>2010-09-01</th>\n",
       "      <td>379.2</td>\n",
       "      <td>41565.380</td>\n",
       "      <td>88.56</td>\n",
       "      <td>2751.700</td>\n",
       "    </tr>\n",
       "    <tr>\n",
       "      <th>2010-09-02</th>\n",
       "      <td>369.6</td>\n",
       "      <td>38898.990</td>\n",
       "      <td>88.56</td>\n",
       "      <td>570.810</td>\n",
       "    </tr>\n",
       "    <tr>\n",
       "      <th>2010-09-03</th>\n",
       "      <td>439.2</td>\n",
       "      <td>41665.760</td>\n",
       "      <td>106.80</td>\n",
       "      <td>504.975</td>\n",
       "    </tr>\n",
       "    <tr>\n",
       "      <th>2010-09-04</th>\n",
       "      <td>328.8</td>\n",
       "      <td>35638.085</td>\n",
       "      <td>81.36</td>\n",
       "      <td>502.275</td>\n",
       "    </tr>\n",
       "    <tr>\n",
       "      <th>2010-09-05</th>\n",
       "      <td>357.6</td>\n",
       "      <td>35611.410</td>\n",
       "      <td>106.80</td>\n",
       "      <td>500.555</td>\n",
       "    </tr>\n",
       "  </tbody>\n",
       "</table>\n",
       "</div>"
      ],
      "text/plain": [
       "             Tmax    SysLoad  GasPrice         y\n",
       "ds                                              \n",
       "2010-09-01  379.2  41565.380     88.56  2751.700\n",
       "2010-09-02  369.6  38898.990     88.56   570.810\n",
       "2010-09-03  439.2  41665.760    106.80   504.975\n",
       "2010-09-04  328.8  35638.085     81.36   502.275\n",
       "2010-09-05  357.6  35611.410    106.80   500.555"
      ]
     },
     "execution_count": 9,
     "metadata": {},
     "output_type": "execute_result"
    }
   ],
   "source": [
    "df_daily = df_copy.resample('D').sum()\n",
    "print(df_daily.shape)\n",
    "df_daily.head()"
   ]
  },
  {
   "cell_type": "markdown",
   "id": "4983b4d0",
   "metadata": {},
   "source": [
    "#### Question 11\n",
    "Resample the data from an hour sampling rate to a daily sampling rate (i.e sum over the hours for each day). Which of the following is a plot of ElecPrice over time?"
   ]
  },
  {
   "cell_type": "markdown",
   "id": "a98bf529",
   "metadata": {},
   "source": [
    "**Answer:** As seen in the diagram and working below:"
   ]
  },
  {
   "cell_type": "code",
   "execution_count": 10,
   "id": "ddf9ba1f",
   "metadata": {},
   "outputs": [
    {
     "data": {
      "text/plain": [
       "Text(0, 0.5, 'ElecPrice')"
      ]
     },
     "execution_count": 10,
     "metadata": {},
     "output_type": "execute_result"
    },
    {
     "data": {
      "image/png": "[encoded data removed]",
      "text/plain": [
       "<Figure size 300x200 with 1 Axes>"
      ]
     },
     "metadata": {},
     "output_type": "display_data"
    }
   ],
   "source": [
    "plt.figure(figsize=(3,2))\n",
    "plt.plot(df_daily.index, df_daily.y, '--')\n",
    "plt.grid()\n",
    "plt.xlabel('Datetime')\n",
    "plt.ylabel('ElecPrice')"
   ]
  },
  {
   "cell_type": "markdown",
   "id": "8acfc4eb",
   "metadata": {},
   "source": [
    "#### Question 12\n",
    "Using the Augmented Dicky Fuller test (ADF), what is the P-value of the SysLoad and GasPrice of the resampled Data set, to 6 decimal places?"
   ]
  },
  {
   "cell_type": "markdown",
   "id": "9717471c",
   "metadata": {},
   "source": [
    "**Answer:** \n",
    "0.004254, 0.045027,\n",
    "As seen in the working below:"
   ]
  },
  {
   "cell_type": "code",
   "execution_count": 11,
   "id": "078eece8",
   "metadata": {},
   "outputs": [
    {
     "name": "stdout",
     "output_type": "stream",
     "text": [
      "SysLoad: 0.004254\n"
     ]
    }
   ],
   "source": [
    "# P value of Sysload using Augmented Dicky Fuller test (ADF)\n",
    "sysload_adf = adfuller(df_daily['SysLoad'])\n",
    "print(f'SysLoad: {round(sysload_adf[1],6)}')"
   ]
  },
  {
   "cell_type": "code",
   "execution_count": 12,
   "id": "0f635965",
   "metadata": {},
   "outputs": [
    {
     "name": "stdout",
     "output_type": "stream",
     "text": [
      "GasPrice: 0.045027\n"
     ]
    }
   ],
   "source": [
    "# P value of GasPrice using Augmented Dicky Fuller test (ADF)\n",
    "gasprice_adf = adfuller(df_daily['GasPrice'])\n",
    "print(f'GasPrice: {round(gasprice_adf[1],6)}')"
   ]
  },
  {
   "cell_type": "markdown",
   "id": "970e82af",
   "metadata": {},
   "source": [
    "#### Question 13\n",
    "Using the Augmented Dicky Fuller test (ADF) what are the 10% and 5% critical values of GasPrice and ElecPrice of the resampled Data set, to 4 decimal places?"
   ]
  },
  {
   "cell_type": "markdown",
   "id": "a4ec1d02",
   "metadata": {},
   "source": [
    "**Answer:** \n",
    "-2.5672, -2.8623,\n",
    "As seen in the diagram and working below:"
   ]
  },
  {
   "cell_type": "code",
   "execution_count": 13,
   "id": "fc873311",
   "metadata": {},
   "outputs": [
    {
     "name": "stdout",
     "output_type": "stream",
     "text": [
      "ADF: -2.9028\n",
      "The Critical Values of GasPrice and ElecPrice:\n",
      "   1%: -3.4321\n",
      "   5%: -2.8623\n",
      "   10%: -2.5672\n"
     ]
    }
   ],
   "source": [
    "adf_gasprice = adfuller(df_daily['GasPrice'])\n",
    "print(f'ADF: {round(adf_gasprice[0],4)}')\n",
    "print('The Critical Values of GasPrice and ElecPrice:')\n",
    "for k, v in adf_gasprice[4].items():\n",
    "  print(f'   {k}: {round(v, 4)}')"
   ]
  },
  {
   "cell_type": "code",
   "execution_count": 14,
   "id": "6bac7845",
   "metadata": {},
   "outputs": [],
   "source": [
    "df_daily.reset_index(inplace=True)\n",
    "\n",
    "traindf = df_daily.iloc[:2757,:]\n",
    "testdf = df_daily.iloc[2757:,:]"
   ]
  },
  {
   "cell_type": "code",
   "execution_count": 15,
   "id": "7f071d11",
   "metadata": {},
   "outputs": [],
   "source": [
    "def mape(y, yhat):\n",
    "  y = y.reset_index(drop=True)\n",
    "  return round(np.mean(np.abs((y - yhat)/y)*100),2)"
   ]
  },
  {
   "cell_type": "markdown",
   "id": "a387aa84",
   "metadata": {},
   "source": [
    "#### Question 14\n",
    "\n",
    "Evaluating the results of your time series model on the test set, what is the MAPE (in %) in 2 decimal places?\n",
    "\n",
    "Hint:\n",
    "\n",
    "Define a function that calculates the Mape using the definition of MAPE from the course Module and pass your dataset into it."
   ]
  },
  {
   "cell_type": "markdown",
   "id": "12ee9170",
   "metadata": {},
   "source": [
    "**Answer:** 544.09,  As seen in the working and answer below: "
   ]
  },
  {
   "cell_type": "code",
   "execution_count": 16,
   "id": "81c751a4",
   "metadata": {},
   "outputs": [
    {
     "name": "stderr",
     "output_type": "stream",
     "text": [
      "18:08:25 - cmdstanpy - INFO - Chain [1] start processing\n",
      "18:08:26 - cmdstanpy - INFO - Chain [1] done processing\n"
     ]
    },
    {
     "data": {
      "text/plain": [
       "<prophet.forecaster.Prophet at 0x7fefab2f1600>"
      ]
     },
     "execution_count": 16,
     "metadata": {},
     "output_type": "execute_result"
    }
   ],
   "source": [
    "model_1 = Prophet()\n",
    "model_1.fit(traindf)"
   ]
  },
  {
   "cell_type": "code",
   "execution_count": 17,
   "id": "8a76ea81",
   "metadata": {},
   "outputs": [
    {
     "data": {
      "text/plain": [
       "544.09"
      ]
     },
     "execution_count": 17,
     "metadata": {},
     "output_type": "execute_result"
    }
   ],
   "source": [
    "pred1 = model_1.predict(testdf) \n",
    "mape(testdf['y'],pred1['yhat'])"
   ]
  },
  {
   "cell_type": "markdown",
   "id": "a8cd64c2",
   "metadata": {},
   "source": [
    "#### Question 15\n",
    "What is the RMSE in 2 decimal places?"
   ]
  },
  {
   "cell_type": "markdown",
   "id": "82af2e0a",
   "metadata": {},
   "source": [
    "**Answer:** \n",
    "3207.46, As seen in the working and answer below:"
   ]
  },
  {
   "cell_type": "code",
   "execution_count": 18,
   "id": "aae3a996",
   "metadata": {},
   "outputs": [
    {
     "name": "stdout",
     "output_type": "stream",
     "text": [
      "The RMSE is : 3207.46\n"
     ]
    }
   ],
   "source": [
    "rmse = np.sqrt(metrics.mean_squared_error(np.array(testdf['y']),np.array(pred1['yhat'])))\n",
    "\n",
    "print('The RMSE is : %s' %(round(rmse,2)))"
   ]
  },
  {
   "cell_type": "markdown",
   "id": "d7192e3c",
   "metadata": {},
   "source": [
    "#### Question 16\n",
    "\n",
    "If you plot the components from the forecasted model, what month of the yearly seasonality has the highest value?"
   ]
  },
  {
   "cell_type": "markdown",
   "id": "35efad7b",
   "metadata": {},
   "source": [
    "**Answer:** July"
   ]
  },
  {
   "cell_type": "code",
   "execution_count": 19,
   "id": "ce4b5bd1",
   "metadata": {},
   "outputs": [],
   "source": [
    "new_df = df_daily.rename(columns={\"SysLoad\" : \"add1\" , \"Tmax\" : \"add2\", \"GasPrice\" : \"add3\" })\n",
    "\n",
    "traindf2 = new_df[:2757]\n",
    "testdf2 = new_df[2757:]"
   ]
  },
  {
   "cell_type": "code",
   "execution_count": 20,
   "id": "0a208cff",
   "metadata": {},
   "outputs": [
    {
     "data": {
      "text/plain": [
       "<prophet.forecaster.Prophet at 0x7fefab20cac0>"
      ]
     },
     "execution_count": 20,
     "metadata": {},
     "output_type": "execute_result"
    }
   ],
   "source": [
    "model2 = Prophet()\n",
    "\n",
    "model2.add_regressor('add1')\n",
    "model2.add_regressor('add2')\n",
    "model2.add_regressor('add3')"
   ]
  },
  {
   "cell_type": "code",
   "execution_count": 21,
   "id": "f1da23aa",
   "metadata": {},
   "outputs": [
    {
     "name": "stderr",
     "output_type": "stream",
     "text": [
      "18:08:26 - cmdstanpy - INFO - Chain [1] start processing\n",
      "18:08:27 - cmdstanpy - INFO - Chain [1] done processing\n"
     ]
    },
    {
     "data": {
      "text/plain": [
       "<prophet.forecaster.Prophet at 0x7fefab20cac0>"
      ]
     },
     "execution_count": 21,
     "metadata": {},
     "output_type": "execute_result"
    }
   ],
   "source": [
    "model2.fit(traindf2)"
   ]
  },
  {
   "cell_type": "markdown",
   "id": "30c9ecd5",
   "metadata": {},
   "source": [
    "#### Question 17\n",
    "\n",
    "Evaluating the results of your time series model on the test set, what is the MAPE (in %) in 2 decimal places?"
   ]
  },
  {
   "cell_type": "markdown",
   "id": "ba7c4940",
   "metadata": {},
   "source": [
    "**Answer:** 237.34, As seen in the working and answer below: "
   ]
  },
  {
   "cell_type": "code",
   "execution_count": 22,
   "id": "c4f2295c",
   "metadata": {},
   "outputs": [
    {
     "data": {
      "text/plain": [
       "237.34"
      ]
     },
     "execution_count": 22,
     "metadata": {},
     "output_type": "execute_result"
    }
   ],
   "source": [
    "pred2 = model2.predict(testdf2) \n",
    "mape(testdf['y'],pred2['yhat'])"
   ]
  },
  {
   "cell_type": "markdown",
   "id": "52692777",
   "metadata": {},
   "source": [
    "#### Question 18\n",
    "What is the RMSE in 2 decimal places?"
   ]
  },
  {
   "cell_type": "markdown",
   "id": "aed9281f",
   "metadata": {},
   "source": [
    "**Answer:** 2713.53, As seen in the working below:"
   ]
  },
  {
   "cell_type": "code",
   "execution_count": 23,
   "id": "0d957f7a",
   "metadata": {},
   "outputs": [
    {
     "name": "stdout",
     "output_type": "stream",
     "text": [
      "The RMSE is : 2713.53\n"
     ]
    }
   ],
   "source": [
    "rmse2 = np.sqrt(metrics.mean_squared_error(np.array(testdf['y']),np.array(pred2['yhat'])))\n",
    "\n",
    "print('The RMSE is : %s' %(round(rmse2,2)))"
   ]
  },
  {
   "cell_type": "markdown",
   "id": "a8f3c9fd",
   "metadata": {},
   "source": [
    "#### Question 19\n",
    "\n",
    "If you plot the components from the multivariate forecasted model, what day of the daily seasonality has the highest value?"
   ]
  },
  {
   "cell_type": "markdown",
   "id": "ee3f698b",
   "metadata": {},
   "source": [
    "**Answer:** Thursday, As seen in the working for number 16:"
   ]
  },
  {
   "cell_type": "markdown",
   "id": "96bf35c9",
   "metadata": {},
   "source": [
    "#### Question 20\n",
    "\n",
    "Train a multivariate time series model performing the same train test split as before, but now exclude T-max from the training data(drop T-max),\n",
    "\n",
    "What is the mean absolute percentage error (MAPE) to 2 decimal places on the test set?"
   ]
  },
  {
   "cell_type": "markdown",
   "id": "00148918",
   "metadata": {},
   "source": [
    "**Answer:** 231.58, As seen in the working below: "
   ]
  },
  {
   "cell_type": "code",
   "execution_count": 24,
   "id": "d75cd25b",
   "metadata": {},
   "outputs": [
    {
     "data": {
      "text/html": [
       "<div>\n",
       "<style scoped>\n",
       "    .dataframe tbody tr th:only-of-type {\n",
       "        vertical-align: middle;\n",
       "    }\n",
       "\n",
       "    .dataframe tbody tr th {\n",
       "        vertical-align: top;\n",
       "    }\n",
       "\n",
       "    .dataframe thead th {\n",
       "        text-align: right;\n",
       "    }\n",
       "</style>\n",
       "<table border=\"1\" class=\"dataframe\">\n",
       "  <thead>\n",
       "    <tr style=\"text-align: right;\">\n",
       "      <th></th>\n",
       "      <th>ds</th>\n",
       "      <th>add2</th>\n",
       "      <th>add1</th>\n",
       "      <th>add3</th>\n",
       "      <th>y</th>\n",
       "    </tr>\n",
       "  </thead>\n",
       "  <tbody>\n",
       "    <tr>\n",
       "      <th>0</th>\n",
       "      <td>2010-09-01</td>\n",
       "      <td>379.2</td>\n",
       "      <td>41565.380</td>\n",
       "      <td>88.56</td>\n",
       "      <td>2751.700</td>\n",
       "    </tr>\n",
       "    <tr>\n",
       "      <th>1</th>\n",
       "      <td>2010-09-02</td>\n",
       "      <td>369.6</td>\n",
       "      <td>38898.990</td>\n",
       "      <td>88.56</td>\n",
       "      <td>570.810</td>\n",
       "    </tr>\n",
       "    <tr>\n",
       "      <th>2</th>\n",
       "      <td>2010-09-03</td>\n",
       "      <td>439.2</td>\n",
       "      <td>41665.760</td>\n",
       "      <td>106.80</td>\n",
       "      <td>504.975</td>\n",
       "    </tr>\n",
       "    <tr>\n",
       "      <th>3</th>\n",
       "      <td>2010-09-04</td>\n",
       "      <td>328.8</td>\n",
       "      <td>35638.085</td>\n",
       "      <td>81.36</td>\n",
       "      <td>502.275</td>\n",
       "    </tr>\n",
       "    <tr>\n",
       "      <th>4</th>\n",
       "      <td>2010-09-05</td>\n",
       "      <td>357.6</td>\n",
       "      <td>35611.410</td>\n",
       "      <td>106.80</td>\n",
       "      <td>500.555</td>\n",
       "    </tr>\n",
       "  </tbody>\n",
       "</table>\n",
       "</div>"
      ],
      "text/plain": [
       "          ds   add2       add1    add3         y\n",
       "0 2010-09-01  379.2  41565.380   88.56  2751.700\n",
       "1 2010-09-02  369.6  38898.990   88.56   570.810\n",
       "2 2010-09-03  439.2  41665.760  106.80   504.975\n",
       "3 2010-09-04  328.8  35638.085   81.36   502.275\n",
       "4 2010-09-05  357.6  35611.410  106.80   500.555"
      ]
     },
     "execution_count": 24,
     "metadata": {},
     "output_type": "execute_result"
    }
   ],
   "source": [
    "traindf3 = new_df.iloc[:2757,:]\n",
    "testdf3 = new_df.iloc[2757:,:]\n",
    "\n",
    "mv_df2 = df_daily.rename(columns={\"SysLoad\" : \"add1\" , \"Tmax\" : \"add2\", \"GasPrice\" : \"add3\" })\n",
    "mv_df2.head()"
   ]
  },
  {
   "cell_type": "code",
   "execution_count": 25,
   "id": "98796455",
   "metadata": {},
   "outputs": [],
   "source": [
    "mv_df2= mv_df2.drop([\"add2\"], axis=1)"
   ]
  },
  {
   "cell_type": "code",
   "execution_count": 26,
   "id": "686a751a",
   "metadata": {},
   "outputs": [],
   "source": [
    "traindf2 = mv_df2.iloc[:2757,:]\n",
    "testdf2 = mv_df2.iloc[2757:,:]"
   ]
  },
  {
   "cell_type": "code",
   "execution_count": 27,
   "id": "f166eec9",
   "metadata": {},
   "outputs": [
    {
     "name": "stderr",
     "output_type": "stream",
     "text": [
      "18:08:28 - cmdstanpy - INFO - Chain [1] start processing\n",
      "18:08:28 - cmdstanpy - INFO - Chain [1] done processing\n"
     ]
    },
    {
     "data": {
      "text/plain": [
       "<prophet.forecaster.Prophet at 0x7fefab20f340>"
      ]
     },
     "execution_count": 27,
     "metadata": {},
     "output_type": "execute_result"
    }
   ],
   "source": [
    "model_3 = Prophet()\n",
    "model_3.add_regressor(\"add1\")\n",
    "model_3.add_regressor(\"add3\")\n",
    "model_3.fit(traindf2)"
   ]
  },
  {
   "cell_type": "code",
   "execution_count": 28,
   "id": "ec460208",
   "metadata": {},
   "outputs": [
    {
     "data": {
      "text/plain": [
       "231.58"
      ]
     },
     "execution_count": 28,
     "metadata": {},
     "output_type": "execute_result"
    }
   ],
   "source": [
    "pred3 = model_3.predict(testdf2)\n",
    "\n",
    "mape(testdf['y'],pred3['yhat'])"
   ]
  },
  {
   "cell_type": "code",
   "execution_count": null,
   "id": "3ef22cf8",
   "metadata": {},
   "outputs": [],
   "source": []
  }
 ],
 "metadata": {
  "kernelspec": {
   "display_name": "Python 3 (ipykernel)",
   "language": "python",
   "name": "python3"
  },
  "language_info": {
   "codemirror_mode": {
    "name": "ipython",
    "version": 3
   },
   "file_extension": ".py",
   "mimetype": "text/x-python",
   "name": "python",
   "nbconvert_exporter": "python",
   "pygments_lexer": "ipython3",
   "version": "3.10.9"
  }
 },
 "nbformat": 4,
 "nbformat_minor": 5
}
